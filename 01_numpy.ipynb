{
  "cells": [
    {
      "cell_type": "markdown",
      "metadata": {
        "id": "LxM-TRHlTzCS"
      },
      "source": [
        "# Numpy"
      ]
    },
    {
      "cell_type": "markdown",
      "metadata": {
        "id": "dOeOKH-BTzCU"
      },
      "source": [
        "Материалы:\n",
        "* Макрушин С.В. \"Лекция 1: Библиотека Numpy\"\n",
        "* https://numpy.org/doc/stable/user/index.html\n",
        "* https://numpy.org/doc/stable/reference/index.html"
      ]
    },
    {
      "cell_type": "code",
      "execution_count": null,
      "metadata": {
        "id": "oA38_bkcTzCV"
      },
      "outputs": [],
      "source": [
        "import numpy as np"
      ]
    },
    {
      "cell_type": "markdown",
      "metadata": {
        "id": "5cNPqzcaTzCW"
      },
      "source": [
        "## Задачи для совместного разбора"
      ]
    },
    {
      "cell_type": "markdown",
      "metadata": {
        "id": "Bzzg7GcuTzCW"
      },
      "source": [
        "1. Сгенерировать двухмерный массив `arr` размерности (4, 7), состоящий из случайных действительных чисел, равномерно распределенных в диапазоне от 0 до 20. Нормализовать значения массива с помощью преобразования вида  $𝑎𝑥+𝑏$  так, что после нормализации максимальный элемент масcива будет равен 1.0, минимальный 0.0"
      ]
    },
    {
      "cell_type": "code",
      "execution_count": 1,
      "metadata": {
        "colab": {
          "base_uri": "https://localhost:8080/"
        },
        "id": "BgrCuPnvTzCW",
        "outputId": "23b25099-0b73-423d-8ed1-e5df4deac94d"
      },
      "outputs": [
        {
          "output_type": "execute_result",
          "data": {
            "text/plain": [
              "array([[ 9, 14, 19,  6,  5, 12,  7],\n",
              "       [ 8,  6, 14, 11, 14, 19,  9],\n",
              "       [ 1,  3,  6,  6,  0, 15, 19],\n",
              "       [12,  6, 17, 12,  5,  4,  9]])"
            ]
          },
          "metadata": {},
          "execution_count": 1
        }
      ],
      "source": [
        "import numpy as np\n",
        "arr = np.random.randint(0, 20, (4, 7))\n",
        "arr"
      ]
    },
    {
      "cell_type": "markdown",
      "metadata": {
        "id": "DGGigkXITzCW"
      },
      "source": [
        "2. Создать матрицу 8 на 10 из случайных целых (используя модуль `numpy.random`) чисел из диапозона от 0 до 10 и найти в ней строку (ее индекс и вывести саму строку), в которой сумма значений минимальна."
      ]
    },
    {
      "cell_type": "code",
      "execution_count": 2,
      "metadata": {
        "colab": {
          "base_uri": "https://localhost:8080/"
        },
        "id": "2lFr76CZTzCX",
        "outputId": "3bfb85d0-5cf2-40e5-aab8-4fe528e1c5f3"
      },
      "outputs": [
        {
          "output_type": "stream",
          "name": "stdout",
          "text": [
            "<class 'numpy.ndarray'>\n",
            "[2 3 4]\n",
            "[0 1 2 3 4]\n"
          ]
        }
      ],
      "source": [
        "a = np.array([2,3,4])\n",
        "print(type(a))\n",
        "b = [2,3,4]\n",
        "print(np.array(b))\n",
        "print(np.arange(5))"
      ]
    },
    {
      "cell_type": "markdown",
      "metadata": {
        "id": "hrrn8ybkTzCY"
      },
      "source": [
        "## Лабораторная работа №1.1"
      ]
    },
    {
      "cell_type": "markdown",
      "metadata": {
        "id": "Hw98ZIV2TzCY"
      },
      "source": [
        "Замечание: при решении данных задач не подразумевается использования циклов или генераторов Python, если в задании не сказано обратного. Решение должно опираться на использования функционала библиотеки `numpy`."
      ]
    },
    {
      "cell_type": "markdown",
      "metadata": {
        "id": "i7Pt0q0ZTzCY"
      },
      "source": [
        "1. Файл `minutes_n_ingredients.csv` содержит информацию об идентификаторе рецепта, времени его выполнения в минутах и количестве необходимых ингредиентов. Считайте данные из этого файла в виде массива `numpy` типа `int32`, используя `np.loadtxt`. Выведите на экран первые 5 строк массива."
      ]
    },
    {
      "cell_type": "code",
      "execution_count": null,
      "metadata": {
        "id": "yAYQA7KFTzCY",
        "outputId": "f6aeacdd-8e25-4923-af86-c8f05243aaca"
      },
      "outputs": [
        {
          "name": "stdout",
          "output_type": "stream",
          "text": [
            "[[127244     60     16]\n",
            " [ 23891     25      7]\n",
            " [ 94746     10      6]\n",
            " [ 67660      5      6]\n",
            " [157911     60     14]]\n"
          ]
        }
      ],
      "source": [
        "print(np.loadtxt(r'C:\\Users\\Саня\\Downloads\\minutes_n_ingredients.csv', dtype='int32', delimiter=',', skiprows=1)[:5, :])"
      ]
    },
    {
      "cell_type": "markdown",
      "metadata": {
        "id": "hUkjsiOgTzCZ"
      },
      "source": [
        "2. Вычислите среднее значение, минимум, максимум и медиану по каждому из столбцов, кроме первого."
      ]
    },
    {
      "cell_type": "code",
      "execution_count": null,
      "metadata": {
        "id": "xXCdWmB9TzCZ",
        "outputId": "f60f4d98-a4f8-4fe6-da90-b9e51c2b96d9"
      },
      "outputs": [
        {
          "name": "stdout",
          "output_type": "stream",
          "text": [
            "2-й столбец: Среднее: 21601.00169, Мин: 0, Макс: 2147483647, Медиана: 40.0\n",
            "3-й столбец: Среднее: 9.05528, Мин: 1, Макс: 39, Медиана: 9.0\n"
          ]
        }
      ],
      "source": [
        "arr = np.loadtxt(r'C:\\Users\\Саня\\Downloads\\minutes_n_ingredients.csv', dtype='int32', delimiter=',', skiprows=1)\n",
        "print(f\"2-й столбец: Среднее: {np.mean(arr[:, 1])}, Мин: {np.amin(arr[:, 1])}, Макс: {np.amax(arr[:, 1])}, Медиана: {np.median(arr[:, 1])}\")\n",
        "print(f\"3-й столбец: Среднее: {np.mean(arr[:, 2])}, Мин: {np.amin(arr[:, 2])}, Макс: {np.amax(arr[:, 2])}, Медиана: {np.median(arr[:, 2])}\")"
      ]
    },
    {
      "cell_type": "markdown",
      "metadata": {
        "id": "UBNOfJ1dTzCZ"
      },
      "source": [
        "3. Ограничьте сверху значения продолжительности выполнения рецепта значением квантиля $q_{0.75}$."
      ]
    },
    {
      "cell_type": "code",
      "execution_count": null,
      "metadata": {
        "id": "9pNzGd92TzCa",
        "outputId": "c134e272-069e-4c4b-b15e-922aabd91532"
      },
      "outputs": [
        {
          "name": "stdout",
          "output_type": "stream",
          "text": [
            "квантиль = 65.0\n",
            "[[127244     60     16]\n",
            " [ 23891     25      7]\n",
            " [ 94746     10      6]\n",
            " ...\n",
            " [371794     35      8]\n",
            " [ 43407     35      7]\n",
            " [370915      5      4]]\n"
          ]
        }
      ],
      "source": [
        "print(f\"квантиль = {np.quantile(arr[:, 1], q=0.75)}\")\n",
        "print(arr[arr[:, 1]<65.0])"
      ]
    },
    {
      "cell_type": "markdown",
      "metadata": {
        "id": "d5HTyzVgTzCa"
      },
      "source": [
        "4. Посчитайте, для скольких рецептов указана продолжительность, равная нулю. Замените для таких строк значение в данном столбце на 1."
      ]
    },
    {
      "cell_type": "code",
      "execution_count": null,
      "metadata": {
        "id": "QnHHkniKTzCa",
        "outputId": "06b09434-21c0-4245-e50f-08b5de99397c"
      },
      "outputs": [
        {
          "name": "stdout",
          "output_type": "stream",
          "text": [
            "121\n"
          ]
        }
      ],
      "source": [
        "from collections import Counter\n",
        "#print(f\"Продолжительность равная нулю: {Counter(arr[:, 1] == 0)[True]}\")\n",
        "m1 = arr2[:, 1] == 60\n",
        "m2 = arr2[:, 2] == 16\n",
        "m3 = m1*m2\n",
        "print(np.count_nonzero(m3))\n",
        "arr2 = arr.copy()\n",
        "arr2[arr2[:, 1] == 0] += [0, 1, 0]"
      ]
    },
    {
      "cell_type": "markdown",
      "metadata": {
        "id": "0zu6MNpZTzCa"
      },
      "source": [
        "5. Посчитайте, сколько уникальных рецептов находится в датасете."
      ]
    },
    {
      "cell_type": "code",
      "execution_count": null,
      "metadata": {
        "id": "6o7PhqAeTzCb",
        "outputId": "d194680d-8bf2-4c80-9536-2b4416d75dbe"
      },
      "outputs": [
        {
          "name": "stdout",
          "output_type": "stream",
          "text": [
            "100000\n"
          ]
        }
      ],
      "source": [
        "print(len(np.unique(arr[:, 0])))"
      ]
    },
    {
      "cell_type": "markdown",
      "metadata": {
        "id": "E3DjH77-TzCb"
      },
      "source": [
        "6. Сколько и каких различных значений кол-ва ингредиентов присутвует в рецептах из датасета?"
      ]
    },
    {
      "cell_type": "code",
      "execution_count": null,
      "metadata": {
        "id": "IPN9mF0vTzCb",
        "outputId": "bb5179e2-1134-495b-f481-5c11d8f94a13"
      },
      "outputs": [
        {
          "name": "stdout",
          "output_type": "stream",
          "text": [
            "37\n",
            "Значения: [ 1  2  3  4  5  6  7  8  9 10 11 12 13 14 15 16 17 18 19 20 21 22 23 24\n",
            " 25 26 27 28 29 30 31 32 33 34 35 37 39]\n",
            "Кол-во: [   13   926  2895  5515  7913  9376 10628 10951 10585  9591  8297  6605\n",
            "  4997  3663  2595  1767  1246   790   573   376   217   161   105    69\n",
            "    50    28    16    16    12    12     3     1     2     1     3     1\n",
            "     1]\n"
          ]
        }
      ],
      "source": [
        "print(len(np.unique(arr[:, 2])))\n",
        "ag = np.unique(arr[:, 2], return_counts=True)\n",
        "print(f\"Значения: {ag[0]}\\nКол-во: {ag[1]}\")"
      ]
    },
    {
      "cell_type": "markdown",
      "metadata": {
        "id": "lViJ8is9TzCb"
      },
      "source": [
        "## Лабораторная работа №1.2"
      ]
    },
    {
      "cell_type": "markdown",
      "metadata": {
        "id": "z_07n1BJTzCb"
      },
      "source": [
        "7. Создайте версию массива, содержащую информацию только о рецептах, состоящих не более чем из 5 ингредиентов."
      ]
    },
    {
      "cell_type": "code",
      "execution_count": null,
      "metadata": {
        "id": "k3OPB3BbTzCc",
        "outputId": "f4d5516c-4557-47b8-aea9-2ecc20e5f4f2"
      },
      "outputs": [
        {
          "data": {
            "text/plain": [
              "array([[446597,     15,      5],\n",
              "       [204134,      5,      3],\n",
              "       [ 25623,      6,      4],\n",
              "       ...,\n",
              "       [ 52088,     60,      5],\n",
              "       [128811,     15,      4],\n",
              "       [370915,      5,      4]])"
            ]
          },
          "execution_count": 12,
          "metadata": {},
          "output_type": "execute_result"
        }
      ],
      "source": [
        "arr[arr[:, 2] <= 5]"
      ]
    },
    {
      "cell_type": "markdown",
      "metadata": {
        "id": "wyRKYRozTzCc"
      },
      "source": [
        "8. Для каждого рецепта посчитайте, сколько в среднем ингредиентов приходится на одну минуту рецепта. Найдите максимальное значение этой величины для всего датасета"
      ]
    },
    {
      "cell_type": "code",
      "execution_count": null,
      "metadata": {
        "id": "192SZMQ5TzCc",
        "outputId": "316b4e52-90e7-4e66-9304-d3d8a1b74d75"
      },
      "outputs": [
        {
          "name": "stdout",
          "output_type": "stream",
          "text": [
            "[[1.27244000e+05 6.00000000e+01 2.66666667e-01 2.66666667e-01]\n",
            " [2.38910000e+04 2.50000000e+01 2.80000000e-01 2.80000000e-01]\n",
            " [9.47460000e+04 1.00000000e+01 6.00000000e-01 6.00000000e-01]\n",
            " ...\n",
            " [4.98432000e+05 6.50000000e+01 2.30769231e-01 2.30769231e-01]\n",
            " [3.70915000e+05 5.00000000e+00 8.00000000e-01 8.00000000e-01]\n",
            " [8.19930000e+04 1.40000000e+02 1.00000000e-01 1.00000000e-01]]\n"
          ]
        }
      ],
      "source": [
        "arr3 = arr.copy()\n",
        "arr3 = np.c_[arr3, np.zeros(np.shape(arr)[0])]\n",
        "arr3 = arr3.astype(float, copy=False)\n",
        "arr3[:,3] += np.divide(arr3[:, 2], arr3[:, 1], out=arr3[:, 2], where=arr3[:, 1] != 0)\n",
        "print(arr3)"
      ]
    },
    {
      "cell_type": "code",
      "execution_count": null,
      "metadata": {
        "id": "Htb6HbxrTzCc",
        "outputId": "3c057041-fc23-4e9a-efe2-e5f68b4dafc5"
      },
      "outputs": [
        {
          "data": {
            "text/plain": [
              "24.0"
            ]
          },
          "execution_count": 64,
          "metadata": {},
          "output_type": "execute_result"
        }
      ],
      "source": [
        "np.amax(arr3[:,3])"
      ]
    },
    {
      "cell_type": "markdown",
      "metadata": {
        "id": "3BjnEejJTzCd"
      },
      "source": [
        "9. Вычислите среднее количество ингредиентов для топ-100 рецептов с наибольшей продолжительностью"
      ]
    },
    {
      "cell_type": "code",
      "execution_count": null,
      "metadata": {
        "id": "slJpqxywTzCd",
        "outputId": "00257e49-77eb-4ef7-aa49-0584ae2e3f07"
      },
      "outputs": [
        {
          "name": "stdout",
          "output_type": "stream",
          "text": [
            "6.61\n"
          ]
        }
      ],
      "source": [
        "arr_sort = arr[arr[:, 1].argsort()] # sort arr\n",
        "arr_sort_100 = np.flipud(arr_sort) #reverse\n",
        "print(np.sum(arr_sort_100[:100, :], axis=0)[2]/100)"
      ]
    },
    {
      "cell_type": "markdown",
      "metadata": {
        "id": "Udsimcm7TzCd"
      },
      "source": [
        "10. Выберите случайным образом и выведите информацию о 10 различных рецептах"
      ]
    },
    {
      "cell_type": "code",
      "execution_count": null,
      "metadata": {
        "id": "a6SXeEaUTzCd",
        "outputId": "22a125f2-5990-4fd0-d454-aa419ad22046"
      },
      "outputs": [
        {
          "name": "stdout",
          "output_type": "stream",
          "text": [
            "[28509 69582 85483 48287  4406 98451 10856 20905 49660 40635]\n",
            "[[324444     50     11]\n",
            " [ 76983     35      5]\n",
            " [361683     50     15]\n",
            " [ 27033    105     10]\n",
            " [ 99817     10      8]\n",
            " [  7086      5      8]\n",
            " [167746    205     16]\n",
            " [180645     15      7]\n",
            " [ 62665     25      9]\n",
            " [363874     35     14]]\n"
          ]
        }
      ],
      "source": [
        "ind = np.random.randint(100000, size=10)\n",
        "print(ind)\n",
        "print(arr[ind, :])"
      ]
    },
    {
      "cell_type": "markdown",
      "metadata": {
        "id": "hUgUeMQUTzCe"
      },
      "source": [
        "11. Выведите процент рецептов, кол-во ингредиентов в которых меньше среднего."
      ]
    },
    {
      "cell_type": "code",
      "execution_count": null,
      "metadata": {
        "id": "Ud99p8WMTzCe",
        "outputId": "cc3ac918-e295-4ff2-b107-bdbcde956b6b"
      },
      "outputs": [
        {
          "name": "stdout",
          "output_type": "stream",
          "text": [
            "9.05528\n",
            "58.802\n"
          ]
        }
      ],
      "source": [
        "print(np.sum(arr, axis=0)[2]/arr.shape[0]) # среднее значение\n",
        "print(np.sum(arr[:, 2] < np.mean(arr[:,2]))/arr.shape[0]*100)"
      ]
    },
    {
      "cell_type": "markdown",
      "metadata": {
        "id": "KrU1Ch5VTzCe"
      },
      "source": [
        "12. Назовем \"простым\" такой рецепт, длительность выполнения которого не больше 20 минут и кол-во ингредиентов в котором не больше 5. Создайте версию датасета с дополнительным столбцом, значениями которого являются 1, если рецепт простой, и 0 в противном случае."
      ]
    },
    {
      "cell_type": "code",
      "execution_count": null,
      "metadata": {
        "id": "sEkOhjNXTzCu"
      },
      "outputs": [],
      "source": [
        "arr_simple = arr.copy()\n",
        "arr_simple = np.c_[arr_simple, np.zeros(np.shape(arr)[0], dtype='int64')] # соединяет два массива вдоль ОY\n",
        "arr_simple[np.logical_and((arr_simple[:, 1] <= 20), (arr_simple[:, 2] <= 5))] += [0, 0, 0, 1]\n",
        "print(*arr_simple, sep='\\n')"
      ]
    },
    {
      "cell_type": "markdown",
      "metadata": {
        "id": "gWRoCy7-TzCv"
      },
      "source": [
        "13. Выведите процент \"простых\" рецептов в датасете"
      ]
    },
    {
      "cell_type": "code",
      "execution_count": null,
      "metadata": {
        "id": "mgzGgTplTzCv",
        "outputId": "b395f726-a4ce-4fb5-bc6e-400e57e46636"
      },
      "outputs": [
        {
          "name": "stdout",
          "output_type": "stream",
          "text": [
            "9.552\n"
          ]
        }
      ],
      "source": [
        "print(np.sum(arr_simple, axis=0)[3]/arr_simple.shape[0]*100)"
      ]
    },
    {
      "cell_type": "markdown",
      "metadata": {
        "id": "Vg-U_8ztTzCv"
      },
      "source": [
        "14. Разделим рецепты на группы по следующему правилу. Назовем рецепты короткими, если их продолжительность составляет менее 10 минут; стандартными, если их продолжительность составляет более 10, но менее 20 минут; и длинными, если их продолжительность составляет не менее 20 минут. Создайте трехмерный массив, где нулевая ось отвечает за номер группы (короткий, стандартный или длинный рецепт), первая ось - за сам рецепт и вторая ось - за характеристики рецепта. Выберите максимальное количество рецептов из каждой группы таким образом, чтобы было возможно сформировать трехмерный массив. Выведите форму полученного массива."
      ]
    },
    {
      "cell_type": "code",
      "execution_count": null,
      "metadata": {
        "id": "h34RisAhTzCv",
        "outputId": "5e21669c-2705-43e0-d7f6-d639958d2125"
      },
      "outputs": [
        {
          "name": "stdout",
          "output_type": "stream",
          "text": [
            "(7588, 3)\n",
            "(12661, 3)\n",
            "(73350, 3)\n",
            "\n",
            "(3, 7588, 3)\n",
            "\n",
            "[[[ 67660      5      6]\n",
            "  [366174      7      9]\n",
            "  [204134      5      3]\n",
            "  ...\n",
            "  [420725      5      3]\n",
            "  [  4747      0      9]\n",
            "  [370915      5      4]]\n",
            "\n",
            " [[ 94746     10      6]\n",
            "  [ 33941     18      9]\n",
            "  [446597     15      5]\n",
            "  ...\n",
            "  [  9831     15      7]\n",
            "  [335859     12     14]\n",
            "  [256812     10      3]]\n",
            "\n",
            " [[127244     60     16]\n",
            "  [ 23891     25      7]\n",
            "  [157911     60     14]\n",
            "  ...\n",
            "  [ 24549     70      6]\n",
            "  [449468     50     11]\n",
            "  [ 28830     65     13]]]\n"
          ]
        }
      ],
      "source": [
        "#первый элемент на оси ноль - группа 0\n",
        "#второй элемент на оси ноль - группа 1\n",
        "#третий элемент на оси ноль - группа 2\n",
        "arr_axis_0_gp_1 = arr[arr[:, 1] < 10]\n",
        "print(arr_axis_0_gp_1.shape)\n",
        "arr_axis_0_gp_2 = arr[(arr[:, 1] >= 10) & (arr[:, 1] < 20)]\n",
        "print(arr_axis_0_gp_2.shape)\n",
        "arr_axis_0_gp_3 = arr[arr[:, 1] > 20]\n",
        "print(arr_axis_0_gp_3.shape)\n",
        "print()\n",
        "arr_3D = np.stack((arr_axis_0_gp_1, arr_axis_0_gp_2[:7588], arr_axis_0_gp_3[:7588]))\n",
        "print(arr_3D.shape)\n",
        "print()\n",
        "print(arr_3D)"
      ]
    },
    {
      "cell_type": "code",
      "execution_count": null,
      "metadata": {
        "id": "DMea8LJ1TzCv"
      },
      "outputs": [],
      "source": []
    }
  ],
  "metadata": {
    "kernelspec": {
      "display_name": "Python 3 (ipykernel)",
      "language": "python",
      "name": "python3"
    },
    "language_info": {
      "codemirror_mode": {
        "name": "ipython",
        "version": 3
      },
      "file_extension": ".py",
      "mimetype": "text/x-python",
      "name": "python",
      "nbconvert_exporter": "python",
      "pygments_lexer": "ipython3",
      "version": "3.9.12"
    },
    "colab": {
      "provenance": []
    }
  },
  "nbformat": 4,
  "nbformat_minor": 0
}